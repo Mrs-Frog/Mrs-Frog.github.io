{
 "cells": [
  {
   "cell_type": "code",
   "execution_count": 5,
   "source": [
    "to_format = int(input(\"How many lines: \"))\r\n",
    "text_formatted = ''\r\n",
    "for i in range(to_format):\r\n",
    "    str_to_format = str(input(\"String to format: \"))\r\n",
    "    string_formatted = \"<h3>\" + str_to_format + \"</h3>\\n\"\r\n",
    "    text_formatted = text_formatted + string_formatted\r\n",
    "print(text_formatted)"
   ],
   "outputs": [
    {
     "output_type": "stream",
     "name": "stdout",
     "text": [
      "<h3>                              .-----.</h3>\n",
      "<h3>                            /7  .  (</h3>\n",
      "<h3>                            /7  .  (</h3>\n",
      "<h3>                           /   .-.  \\</h3>\n",
      "<h3>                          /   /   \\  \\</h3>\n",
      "<h3>                         / `  )   (   )</h3>\n",
      "<h3>                        / `   )   ).  \\</h3>\n",
      "<h3></h3>\n",
      "<h3></h3>\n",
      "<h3></h3>\n",
      "<h3></h3>\n",
      "<h3></h3>\n",
      "<h3></h3>\n",
      "<h3></h3>\n",
      "<h3></h3>\n",
      "<h3></h3>\n",
      "<h3></h3>\n",
      "<h3></h3>\n",
      "<h3></h3>\n",
      "<h3></h3>\n",
      "<h3></h3>\n",
      "<h3></h3>\n",
      "<h3></h3>\n",
      "<h3></h3>\n",
      "<h3></h3>\n",
      "<h3></h3>\n",
      "<h3></h3>\n",
      "<h3></h3>\n",
      "<h3></h3>\n",
      "<h3></h3>\n",
      "\n"
     ]
    }
   ],
   "metadata": {}
  }
 ],
 "metadata": {
  "orig_nbformat": 4,
  "language_info": {
   "name": "python",
   "version": "3.9.6",
   "mimetype": "text/x-python",
   "codemirror_mode": {
    "name": "ipython",
    "version": 3
   },
   "pygments_lexer": "ipython3",
   "nbconvert_exporter": "python",
   "file_extension": ".py"
  },
  "kernelspec": {
   "name": "python3",
   "display_name": "Python 3.9.6 64-bit"
  },
  "interpreter": {
   "hash": "a53ea3100330196f3c738b54ce666835bffd6161de801629178e789f713eb5e0"
  }
 },
 "nbformat": 4,
 "nbformat_minor": 2
}